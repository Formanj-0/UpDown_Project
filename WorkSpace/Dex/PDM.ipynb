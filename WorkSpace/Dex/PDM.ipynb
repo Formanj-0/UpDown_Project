{
 "cells": [
  {
   "cell_type": "code",
   "execution_count": 1,
   "metadata": {},
   "outputs": [],
   "source": [
    "import numpy as np\n",
    "import scanpy as sc\n",
    "import pandas as pd\n",
    "import matplotlib.pyplot as plt\n",
    "import os\n",
    "import math\n"
   ]
  },
  {
   "cell_type": "markdown",
   "metadata": {},
   "source": [
    "Load in data"
   ]
  },
  {
   "cell_type": "code",
   "execution_count": 2,
   "metadata": {},
   "outputs": [],
   "source": [
    "path = os.path.dirname(os.getcwd())\n",
    "path = os.path.dirname(path)\n",
    "path = os.path.join(path, 'Datasets/DUSP1')\n",
    "\n",
    "ericData = pd.read_csv(os.path.join(path, 'DUSP1_Dex_100nM_Rep1_Rep2.csv'), index_col=0)\n",
    "\n",
    "path = os.path.dirname(os.getcwd())\n",
    "path = os.path.dirname(path)\n",
    "seqAdata = sc.read_h5ad(os.path.join(path, 'Story/scvi.h5ad'))"
   ]
  },
  {
   "cell_type": "code",
   "execution_count": 3,
   "metadata": {},
   "outputs": [
    {
     "data": {
      "text/html": [
       "<div>\n",
       "<style scoped>\n",
       "    .dataframe tbody tr th:only-of-type {\n",
       "        vertical-align: middle;\n",
       "    }\n",
       "\n",
       "    .dataframe tbody tr th {\n",
       "        vertical-align: top;\n",
       "    }\n",
       "\n",
       "    .dataframe thead th {\n",
       "        text-align: right;\n",
       "    }\n",
       "</style>\n",
       "<table border=\"1\" class=\"dataframe\">\n",
       "  <thead>\n",
       "    <tr style=\"text-align: right;\">\n",
       "      <th></th>\n",
       "      <th>time_index</th>\n",
       "      <th>RNA_nuc</th>\n",
       "      <th>RNA_cyto</th>\n",
       "      <th>RNA_total</th>\n",
       "      <th>Rep_num</th>\n",
       "    </tr>\n",
       "    <tr>\n",
       "      <th>cell_number</th>\n",
       "      <th></th>\n",
       "      <th></th>\n",
       "      <th></th>\n",
       "      <th></th>\n",
       "      <th></th>\n",
       "    </tr>\n",
       "  </thead>\n",
       "  <tbody>\n",
       "    <tr>\n",
       "      <th>0</th>\n",
       "      <td>0</td>\n",
       "      <td>2</td>\n",
       "      <td>4</td>\n",
       "      <td>6</td>\n",
       "      <td>1</td>\n",
       "    </tr>\n",
       "    <tr>\n",
       "      <th>1</th>\n",
       "      <td>0</td>\n",
       "      <td>2</td>\n",
       "      <td>9</td>\n",
       "      <td>11</td>\n",
       "      <td>1</td>\n",
       "    </tr>\n",
       "    <tr>\n",
       "      <th>2</th>\n",
       "      <td>0</td>\n",
       "      <td>20</td>\n",
       "      <td>75</td>\n",
       "      <td>95</td>\n",
       "      <td>1</td>\n",
       "    </tr>\n",
       "    <tr>\n",
       "      <th>3</th>\n",
       "      <td>0</td>\n",
       "      <td>72</td>\n",
       "      <td>98</td>\n",
       "      <td>173</td>\n",
       "      <td>1</td>\n",
       "    </tr>\n",
       "    <tr>\n",
       "      <th>4</th>\n",
       "      <td>0</td>\n",
       "      <td>9</td>\n",
       "      <td>65</td>\n",
       "      <td>74</td>\n",
       "      <td>1</td>\n",
       "    </tr>\n",
       "    <tr>\n",
       "      <th>...</th>\n",
       "      <td>...</td>\n",
       "      <td>...</td>\n",
       "      <td>...</td>\n",
       "      <td>...</td>\n",
       "      <td>...</td>\n",
       "    </tr>\n",
       "    <tr>\n",
       "      <th>4555</th>\n",
       "      <td>180</td>\n",
       "      <td>46</td>\n",
       "      <td>45</td>\n",
       "      <td>92</td>\n",
       "      <td>2</td>\n",
       "    </tr>\n",
       "    <tr>\n",
       "      <th>4556</th>\n",
       "      <td>180</td>\n",
       "      <td>21</td>\n",
       "      <td>49</td>\n",
       "      <td>70</td>\n",
       "      <td>2</td>\n",
       "    </tr>\n",
       "    <tr>\n",
       "      <th>4557</th>\n",
       "      <td>180</td>\n",
       "      <td>16</td>\n",
       "      <td>51</td>\n",
       "      <td>67</td>\n",
       "      <td>2</td>\n",
       "    </tr>\n",
       "    <tr>\n",
       "      <th>4558</th>\n",
       "      <td>180</td>\n",
       "      <td>26</td>\n",
       "      <td>22</td>\n",
       "      <td>49</td>\n",
       "      <td>2</td>\n",
       "    </tr>\n",
       "    <tr>\n",
       "      <th>4559</th>\n",
       "      <td>180</td>\n",
       "      <td>18</td>\n",
       "      <td>10</td>\n",
       "      <td>28</td>\n",
       "      <td>2</td>\n",
       "    </tr>\n",
       "  </tbody>\n",
       "</table>\n",
       "<p>9639 rows × 5 columns</p>\n",
       "</div>"
      ],
      "text/plain": [
       "             time_index  RNA_nuc  RNA_cyto  RNA_total  Rep_num\n",
       "cell_number                                                   \n",
       "0                     0        2         4          6        1\n",
       "1                     0        2         9         11        1\n",
       "2                     0       20        75         95        1\n",
       "3                     0       72        98        173        1\n",
       "4                     0        9        65         74        1\n",
       "...                 ...      ...       ...        ...      ...\n",
       "4555                180       46        45         92        2\n",
       "4556                180       21        49         70        2\n",
       "4557                180       16        51         67        2\n",
       "4558                180       26        22         49        2\n",
       "4559                180       18        10         28        2\n",
       "\n",
       "[9639 rows x 5 columns]"
      ]
     },
     "execution_count": 3,
     "metadata": {},
     "output_type": "execute_result"
    }
   ],
   "source": [
    "ericData"
   ]
  },
  {
   "cell_type": "code",
   "execution_count": 4,
   "metadata": {},
   "outputs": [
    {
     "data": {
      "text/plain": [
       "AnnData object with n_obs × n_vars = 2400 × 5000\n",
       "    obs: 'n_genes', 'n_genes_by_counts', 'total_counts', 'total_counts_mt', 'pct_counts_mt', 'total_counts_ribo', 'pct_counts_ribo', 'Timepoint', 'Treatment', 'leiden', '_scvi_batch', '_scvi_labels'\n",
       "    var: 'n_cells', 'mt', 'ribo', 'n_cells_by_counts', 'mean_counts', 'pct_dropout_by_counts', 'total_counts', 'highly_variable', 'means', 'dispersions', 'dispersions_norm', 'mean', 'std'\n",
       "    uns: 'Timepoint_colors', 'Treatment_colors', '_scvi_manager_uuid', '_scvi_uuid', 'hvg', 'leiden', 'leiden_colors', 'log1p', 'neighbors', 'pca', 'umap'\n",
       "    obsm: 'X_pca', 'X_scVI', 'X_umap', '_scvi_extra_continuous_covs'\n",
       "    varm: 'PCs'\n",
       "    layers: 'counts', 'scvi_normalized'\n",
       "    obsp: 'connectivities', 'distances'"
      ]
     },
     "execution_count": 4,
     "metadata": {},
     "output_type": "execute_result"
    }
   ],
   "source": [
    "seqAdata"
   ]
  },
  {
   "cell_type": "code",
   "execution_count": 5,
   "metadata": {},
   "outputs": [],
   "source": [
    "seqData = pd.DataFrame(columns=['DUSP1', 'Timepoint'])"
   ]
  },
  {
   "cell_type": "code",
   "execution_count": 31,
   "metadata": {},
   "outputs": [],
   "source": [
    "seqData['DUSP1'] = list(seqAdata[:,'DUSP1'].layers['scvi_normalized'].flatten())\n",
    "seqData['Timepoint'] = list(seqAdata.obs['Timepoint'])"
   ]
  },
  {
   "cell_type": "code",
   "execution_count": 32,
   "metadata": {},
   "outputs": [
    {
     "data": {
      "text/html": [
       "<div>\n",
       "<style scoped>\n",
       "    .dataframe tbody tr th:only-of-type {\n",
       "        vertical-align: middle;\n",
       "    }\n",
       "\n",
       "    .dataframe tbody tr th {\n",
       "        vertical-align: top;\n",
       "    }\n",
       "\n",
       "    .dataframe thead th {\n",
       "        text-align: right;\n",
       "    }\n",
       "</style>\n",
       "<table border=\"1\" class=\"dataframe\">\n",
       "  <thead>\n",
       "    <tr style=\"text-align: right;\">\n",
       "      <th></th>\n",
       "      <th>DUSP1</th>\n",
       "      <th>Timepoint</th>\n",
       "    </tr>\n",
       "  </thead>\n",
       "  <tbody>\n",
       "    <tr>\n",
       "      <th>0</th>\n",
       "      <td>0.306735</td>\n",
       "      <td>00</td>\n",
       "    </tr>\n",
       "    <tr>\n",
       "      <th>1</th>\n",
       "      <td>0.085878</td>\n",
       "      <td>00</td>\n",
       "    </tr>\n",
       "    <tr>\n",
       "      <th>2</th>\n",
       "      <td>0.419238</td>\n",
       "      <td>00</td>\n",
       "    </tr>\n",
       "    <tr>\n",
       "      <th>3</th>\n",
       "      <td>0.109594</td>\n",
       "      <td>00</td>\n",
       "    </tr>\n",
       "    <tr>\n",
       "      <th>4</th>\n",
       "      <td>0.413864</td>\n",
       "      <td>00</td>\n",
       "    </tr>\n",
       "    <tr>\n",
       "      <th>...</th>\n",
       "      <td>...</td>\n",
       "      <td>...</td>\n",
       "    </tr>\n",
       "    <tr>\n",
       "      <th>2395</th>\n",
       "      <td>11.577806</td>\n",
       "      <td>18</td>\n",
       "    </tr>\n",
       "    <tr>\n",
       "      <th>2396</th>\n",
       "      <td>9.928389</td>\n",
       "      <td>18</td>\n",
       "    </tr>\n",
       "    <tr>\n",
       "      <th>2397</th>\n",
       "      <td>9.659832</td>\n",
       "      <td>18</td>\n",
       "    </tr>\n",
       "    <tr>\n",
       "      <th>2398</th>\n",
       "      <td>2.105414</td>\n",
       "      <td>18</td>\n",
       "    </tr>\n",
       "    <tr>\n",
       "      <th>2399</th>\n",
       "      <td>3.352895</td>\n",
       "      <td>18</td>\n",
       "    </tr>\n",
       "  </tbody>\n",
       "</table>\n",
       "<p>2400 rows × 2 columns</p>\n",
       "</div>"
      ],
      "text/plain": [
       "          DUSP1 Timepoint\n",
       "0      0.306735        00\n",
       "1      0.085878        00\n",
       "2      0.419238        00\n",
       "3      0.109594        00\n",
       "4      0.413864        00\n",
       "...         ...       ...\n",
       "2395  11.577806        18\n",
       "2396   9.928389        18\n",
       "2397   9.659832        18\n",
       "2398   2.105414        18\n",
       "2399   3.352895        18\n",
       "\n",
       "[2400 rows x 2 columns]"
      ]
     },
     "execution_count": 32,
     "metadata": {},
     "output_type": "execute_result"
    }
   ],
   "source": [
    "seqData"
   ]
  },
  {
   "cell_type": "code",
   "execution_count": 33,
   "metadata": {},
   "outputs": [],
   "source": [
    "Data = pd.concat([ericData, seqData], axis=1)"
   ]
  },
  {
   "cell_type": "code",
   "execution_count": 34,
   "metadata": {},
   "outputs": [],
   "source": [
    "Data.to_csv('4PDO.csv')"
   ]
  },
  {
   "cell_type": "code",
   "execution_count": 8,
   "metadata": {},
   "outputs": [
    {
     "data": {
      "image/png": "[encoded data removed]",
      "text/plain": [
       "<Figure size 640x480 with 1 Axes>"
      ]
     },
     "metadata": {},
     "output_type": "display_data"
    }
   ],
   "source": [
    "seqData['DUSP1'].hist()\n",
    "plt.xlabel('DUSP1')\n",
    "plt.ylabel('Frequency')\n",
    "plt.title('Histogram of DUSP1')\n",
    "plt.show()\n"
   ]
  },
  {
   "cell_type": "code",
   "execution_count": 9,
   "metadata": {},
   "outputs": [
    {
     "data": {
      "image/png": "[encoded data removed]",
      "text/plain": [
       "<Figure size 640x480 with 1 Axes>"
      ]
     },
     "metadata": {},
     "output_type": "display_data"
    }
   ],
   "source": [
    "seqData['DUSP1'].hist()\n",
    "ericData['RNA_total'].hist()\n",
    "plt.xlabel('DUSP1')\n",
    "plt.ylabel('Frequency')\n",
    "plt.title('Histogram of DUSP1')\n",
    "plt.show()"
   ]
  },
  {
   "cell_type": "code",
   "execution_count": 10,
   "metadata": {},
   "outputs": [],
   "source": [
    "ericDataDist, ericDataBins = np.histogram(ericData['RNA_total'], bins=100, density=True)\n",
    "seqDataDist, seqDataBins = np.histogram(seqData['DUSP1'], bins=100, density=True)\n"
   ]
  },
  {
   "cell_type": "code",
   "execution_count": 11,
   "metadata": {},
   "outputs": [
    {
     "data": {
      "text/plain": [
       "array([False, False, False, False, False, False, False, False, False,\n",
       "       False, False, False, False, False, False, False, False, False,\n",
       "       False, False, False, False, False, False, False, False, False,\n",
       "       False, False, False, False, False, False, False, False, False,\n",
       "       False, False, False, False, False, False, False, False, False,\n",
       "       False, False, False, False, False, False, False, False, False,\n",
       "       False, False, False, False, False, False, False, False, False,\n",
       "       False, False, False, False, False, False, False, False, False,\n",
       "       False, False, False, False, False, False, False, False, False,\n",
       "       False, False, False, False, False, False, False, False, False,\n",
       "       False, False, False, False, False, False, False, False, False,\n",
       "       False, False])"
      ]
     },
     "execution_count": 11,
     "metadata": {},
     "output_type": "execute_result"
    }
   ],
   "source": [
    "ericDataBins == seqDataBins"
   ]
  },
  {
   "cell_type": "code",
   "execution_count": 12,
   "metadata": {},
   "outputs": [
    {
     "data": {
      "text/plain": [
       "array([3.22868363e-03, 4.36821902e-03, 5.12790929e-03, 4.80741496e-03,\n",
       "       5.37718266e-03, 5.06855849e-03, 5.21100041e-03, 4.58188191e-03,\n",
       "       4.80741496e-03, 4.43943998e-03, 4.41569966e-03, 3.63226908e-03,\n",
       "       4.11894565e-03, 4.07146501e-03, 3.66787956e-03, 3.38299571e-03,\n",
       "       3.29990459e-03, 3.34738523e-03, 2.86070865e-03, 2.44525304e-03,\n",
       "       2.68265625e-03, 2.36216192e-03, 2.14849903e-03, 1.67369261e-03,\n",
       "       2.19597967e-03, 1.67369261e-03, 1.55499101e-03, 1.43628941e-03,\n",
       "       1.41254909e-03, 1.27010716e-03, 1.32945796e-03, 9.85223312e-04,\n",
       "       1.09205476e-03, 9.85223312e-04, 7.71560425e-04, 8.42781387e-04,\n",
       "       7.83430586e-04, 6.40988661e-04, 5.69767699e-04, 5.22287057e-04,\n",
       "       5.69767699e-04, 3.79845132e-04, 4.39195934e-04, 4.03585453e-04,\n",
       "       3.20494330e-04, 2.73013689e-04, 2.13662887e-04, 2.61143529e-04,\n",
       "       3.20494330e-04, 2.37403208e-04, 1.54312085e-04, 1.42441925e-04,\n",
       "       2.25533047e-04, 1.06831443e-04, 4.74806415e-05, 1.54312085e-04,\n",
       "       8.30911227e-05, 1.18701604e-04, 4.74806415e-05, 8.30911227e-05,\n",
       "       2.37403208e-05, 0.00000000e+00, 5.93508019e-05, 1.06831443e-04,\n",
       "       5.93508019e-05, 9.49612831e-05, 2.37403208e-05, 0.00000000e+00,\n",
       "       2.37403208e-05, 0.00000000e+00, 1.18701604e-05, 2.37403208e-05,\n",
       "       0.00000000e+00, 1.18701604e-05, 4.74806415e-05, 0.00000000e+00,\n",
       "       0.00000000e+00, 3.56104812e-05, 0.00000000e+00, 0.00000000e+00,\n",
       "       0.00000000e+00, 2.37403208e-05, 0.00000000e+00, 1.18701604e-05,\n",
       "       0.00000000e+00, 0.00000000e+00, 0.00000000e+00, 0.00000000e+00,\n",
       "       0.00000000e+00, 1.18701604e-05, 1.18701604e-05, 2.37403208e-05,\n",
       "       0.00000000e+00, 0.00000000e+00, 0.00000000e+00, 0.00000000e+00,\n",
       "       1.18701604e-05, 1.18701604e-05, 0.00000000e+00, 1.18701604e-05])"
      ]
     },
     "execution_count": 12,
     "metadata": {},
     "output_type": "execute_result"
    }
   ],
   "source": [
    "ericDataDist"
   ]
  },
  {
   "cell_type": "markdown",
   "metadata": {},
   "source": [
    "PDM"
   ]
  },
  {
   "cell_type": "code",
   "execution_count": 13,
   "metadata": {},
   "outputs": [],
   "source": [
    "PDM = np.zeros((len(seqDataDist), len(ericDataDist)))\n",
    "q = 1 - 1/36\n",
    "\n",
    "for i in range(PDM.shape[0]):\n",
    "    for j in range(PDM.shape[1]):\n",
    "        if i <= j:\n",
    "            PDM[i,j] = q**i * (1-q)**(j-i) * math.factorial(int(j))/(math.factorial(int(i))*math.factorial(int(j-i)))\n",
    "\n"
   ]
  },
  {
   "cell_type": "code",
   "execution_count": 14,
   "metadata": {},
   "outputs": [],
   "source": [
    "PDM = np.outer(seqDataDist, ericDataDist)\n"
   ]
  },
  {
   "cell_type": "code",
   "execution_count": 15,
   "metadata": {},
   "outputs": [
    {
     "data": {
      "text/plain": [
       "array([[1.33593846e-03, 1.80744615e-03, 2.12178461e-03, ...,\n",
       "        4.91153844e-06, 0.00000000e+00, 4.91153844e-06],\n",
       "       [7.48541449e-04, 1.01273255e-03, 1.18885995e-03, ...,\n",
       "        2.75199062e-06, 0.00000000e+00, 2.75199062e-06],\n",
       "       [4.31450875e-04, 5.83727654e-04, 6.85245507e-04, ...,\n",
       "        1.58621645e-06, 0.00000000e+00, 1.58621645e-06],\n",
       "       ...,\n",
       "       [0.00000000e+00, 0.00000000e+00, 0.00000000e+00, ...,\n",
       "        0.00000000e+00, 0.00000000e+00, 0.00000000e+00],\n",
       "       [0.00000000e+00, 0.00000000e+00, 0.00000000e+00, ...,\n",
       "        0.00000000e+00, 0.00000000e+00, 0.00000000e+00],\n",
       "       [3.46545291e-06, 4.68855394e-06, 5.50395462e-06, ...,\n",
       "        1.27406357e-08, 0.00000000e+00, 1.27406357e-08]])"
      ]
     },
     "execution_count": 15,
     "metadata": {},
     "output_type": "execute_result"
    }
   ],
   "source": [
    "PDM"
   ]
  },
  {
   "cell_type": "code",
   "execution_count": 16,
   "metadata": {},
   "outputs": [],
   "source": [
    "newCounts = np.dot(seqDataDist, PDM)"
   ]
  },
  {
   "cell_type": "code",
   "execution_count": 26,
   "metadata": {},
   "outputs": [
    {
     "data": {
      "image/png": "[encoded data removed]",
      "text/plain": [
       "<Figure size 640x480 with 1 Axes>"
      ]
     },
     "metadata": {},
     "output_type": "display_data"
    }
   ],
   "source": [
    "plt.hist(newCounts, bins=seqDataBins)\n",
    "plt.xlabel('Counts')\n",
    "plt.ylabel('Frequency')\n",
    "plt.title('Histogram of newCounts')\n",
    "plt.show()\n"
   ]
  },
  {
   "cell_type": "code",
   "execution_count": 24,
   "metadata": {},
   "outputs": [],
   "source": [
    "#np.sum(newCounts - seqAdata)"
   ]
  },
  {
   "cell_type": "code",
   "execution_count": 27,
   "metadata": {},
   "outputs": [
    {
     "data": {
      "text/plain": [
       "array([8.55382578e-04, 1.15728231e-03, 1.35854880e-03, 1.27363950e-03,\n",
       "       1.42458937e-03, 1.34282486e-03, 1.38056232e-03, 1.21388851e-03,\n",
       "       1.27363950e-03, 1.17615104e-03, 1.16986147e-03, 9.62305400e-04,\n",
       "       1.09124174e-03, 1.07866259e-03, 9.71739767e-04, 8.96264834e-04,\n",
       "       8.74251311e-04, 8.86830467e-04, 7.57894122e-04, 6.47826511e-04,\n",
       "       7.10722289e-04, 6.25812989e-04, 5.69206789e-04, 4.43415233e-04,\n",
       "       5.81785945e-04, 4.43415233e-04, 4.11967345e-04, 3.80519456e-04,\n",
       "       3.74229878e-04, 3.36492411e-04, 3.52216356e-04, 2.61017478e-04,\n",
       "       2.89320578e-04, 2.61017478e-04, 2.04411278e-04, 2.23280011e-04,\n",
       "       2.07556067e-04, 1.69818600e-04, 1.50949867e-04, 1.38370711e-04,\n",
       "       1.50949867e-04, 1.00633244e-04, 1.16357189e-04, 1.06922822e-04,\n",
       "       8.49093000e-05, 7.23301445e-05, 5.66062000e-05, 6.91853556e-05,\n",
       "       8.49093000e-05, 6.28957778e-05, 4.08822556e-05, 3.77374667e-05,\n",
       "       5.97509889e-05, 2.83031000e-05, 1.25791556e-05, 4.08822556e-05,\n",
       "       2.20135222e-05, 3.14478889e-05, 1.25791556e-05, 2.20135222e-05,\n",
       "       6.28957778e-06, 0.00000000e+00, 1.57239444e-05, 2.83031000e-05,\n",
       "       1.57239444e-05, 2.51583111e-05, 6.28957778e-06, 0.00000000e+00,\n",
       "       6.28957778e-06, 0.00000000e+00, 3.14478889e-06, 6.28957778e-06,\n",
       "       0.00000000e+00, 3.14478889e-06, 1.25791556e-05, 0.00000000e+00,\n",
       "       0.00000000e+00, 9.43436667e-06, 0.00000000e+00, 0.00000000e+00,\n",
       "       0.00000000e+00, 6.28957778e-06, 0.00000000e+00, 3.14478889e-06,\n",
       "       0.00000000e+00, 0.00000000e+00, 0.00000000e+00, 0.00000000e+00,\n",
       "       0.00000000e+00, 3.14478889e-06, 3.14478889e-06, 6.28957778e-06,\n",
       "       0.00000000e+00, 0.00000000e+00, 0.00000000e+00, 0.00000000e+00,\n",
       "       3.14478889e-06, 3.14478889e-06, 0.00000000e+00, 3.14478889e-06])"
      ]
     },
     "execution_count": 27,
     "metadata": {},
     "output_type": "execute_result"
    }
   ],
   "source": [
    "newCounts"
   ]
  },
  {
   "cell_type": "code",
   "execution_count": 28,
   "metadata": {},
   "outputs": [
    {
     "data": {
      "text/plain": [
       "array([3.22868363e-03, 4.36821902e-03, 5.12790929e-03, 4.80741496e-03,\n",
       "       5.37718266e-03, 5.06855849e-03, 5.21100041e-03, 4.58188191e-03,\n",
       "       4.80741496e-03, 4.43943998e-03, 4.41569966e-03, 3.63226908e-03,\n",
       "       4.11894565e-03, 4.07146501e-03, 3.66787956e-03, 3.38299571e-03,\n",
       "       3.29990459e-03, 3.34738523e-03, 2.86070865e-03, 2.44525304e-03,\n",
       "       2.68265625e-03, 2.36216192e-03, 2.14849903e-03, 1.67369261e-03,\n",
       "       2.19597967e-03, 1.67369261e-03, 1.55499101e-03, 1.43628941e-03,\n",
       "       1.41254909e-03, 1.27010716e-03, 1.32945796e-03, 9.85223312e-04,\n",
       "       1.09205476e-03, 9.85223312e-04, 7.71560425e-04, 8.42781387e-04,\n",
       "       7.83430586e-04, 6.40988661e-04, 5.69767699e-04, 5.22287057e-04,\n",
       "       5.69767699e-04, 3.79845132e-04, 4.39195934e-04, 4.03585453e-04,\n",
       "       3.20494330e-04, 2.73013689e-04, 2.13662887e-04, 2.61143529e-04,\n",
       "       3.20494330e-04, 2.37403208e-04, 1.54312085e-04, 1.42441925e-04,\n",
       "       2.25533047e-04, 1.06831443e-04, 4.74806415e-05, 1.54312085e-04,\n",
       "       8.30911227e-05, 1.18701604e-04, 4.74806415e-05, 8.30911227e-05,\n",
       "       2.37403208e-05, 0.00000000e+00, 5.93508019e-05, 1.06831443e-04,\n",
       "       5.93508019e-05, 9.49612831e-05, 2.37403208e-05, 0.00000000e+00,\n",
       "       2.37403208e-05, 0.00000000e+00, 1.18701604e-05, 2.37403208e-05,\n",
       "       0.00000000e+00, 1.18701604e-05, 4.74806415e-05, 0.00000000e+00,\n",
       "       0.00000000e+00, 3.56104812e-05, 0.00000000e+00, 0.00000000e+00,\n",
       "       0.00000000e+00, 2.37403208e-05, 0.00000000e+00, 1.18701604e-05,\n",
       "       0.00000000e+00, 0.00000000e+00, 0.00000000e+00, 0.00000000e+00,\n",
       "       0.00000000e+00, 1.18701604e-05, 1.18701604e-05, 2.37403208e-05,\n",
       "       0.00000000e+00, 0.00000000e+00, 0.00000000e+00, 0.00000000e+00,\n",
       "       1.18701604e-05, 1.18701604e-05, 0.00000000e+00, 1.18701604e-05])"
      ]
     },
     "execution_count": 28,
     "metadata": {},
     "output_type": "execute_result"
    }
   ],
   "source": [
    "ericDataDist"
   ]
  },
  {
   "cell_type": "code",
   "execution_count": null,
   "metadata": {},
   "outputs": [],
   "source": []
  }
 ],
 "metadata": {
  "kernelspec": {
   "display_name": ".venv",
   "language": "python",
   "name": "python3"
  },
  "language_info": {
   "codemirror_mode": {
    "name": "ipython",
    "version": 3
   },
   "file_extension": ".py",
   "mimetype": "text/x-python",
   "name": "python",
   "nbconvert_exporter": "python",
   "pygments_lexer": "ipython3",
   "version": "3.10.12"
  }
 },
 "nbformat": 4,
 "nbformat_minor": 2
}
