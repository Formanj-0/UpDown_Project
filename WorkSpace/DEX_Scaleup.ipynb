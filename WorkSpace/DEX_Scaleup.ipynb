{
 "cells": [
  {
   "cell_type": "markdown",
   "metadata": {},
   "source": [
    "# Identification of Key Genes in DEX stimulation\n",
    "Goals: <br>\n",
    "+ identify key genes for further analysis \n",
    "+ group genes into different catagories \n",
    "+ make list for undergrads to look into\n",
    "+ do it for two datasets\n",
    "\n",
    "Explore A1-2 dataset <br>\n",
    "+ Have time series data for both bulk and single cell\n",
    "\n",
    "\n",
    "\n",
    "\n",
    "\n",
    "Explore U2OS dataset: <br>\n",
    "+ S4u => basically the hourly rate of change\n",
    "\n"
   ]
  },
  {
   "cell_type": "code",
   "execution_count": 1,
   "metadata": {},
   "outputs": [
    {
     "name": "stderr",
     "output_type": "stream",
     "text": [
      "/home/formanj/scRNAseq_model/UpDownProject/.venv/lib/python3.10/site-packages/scvi/_settings.py:63: UserWarning: Since v1.0.0, scvi-tools no longer uses a random seed by default. Run `scvi.settings.seed = 0` to reproduce results from previous versions.\n",
      "  self.seed = seed\n",
      "/home/formanj/scRNAseq_model/UpDownProject/.venv/lib/python3.10/site-packages/scvi/_settings.py:70: UserWarning: Setting `dl_pin_memory_gpu_training` is deprecated in v1.0 and will be removed in v1.1. Please pass in `pin_memory` to the data loaders instead.\n",
      "  self.dl_pin_memory_gpu_training = (\n",
      "/home/formanj/scRNAseq_model/UpDownProject/.venv/lib/python3.10/site-packages/tqdm/auto.py:21: TqdmWarning: IProgress not found. Please update jupyter and ipywidgets. See https://ipywidgets.readthedocs.io/en/stable/user_install.html\n",
      "  from .autonotebook import tqdm as notebook_tqdm\n"
     ]
    }
   ],
   "source": [
    "import scanpy as sc\n",
    "import scvi\n",
    "import matplotlib.pyplot as plt\n",
    "import numpy as np\n",
    "import pandas as pd\n",
    "import os"
   ]
  },
  {
   "cell_type": "markdown",
   "metadata": {},
   "source": [
    "# A1-2 Single Cell"
   ]
  },
  {
   "cell_type": "code",
   "execution_count": 43,
   "metadata": {},
   "outputs": [],
   "source": [
    "adata_a12 = sc.read_text('/home/formanj/scRNAseq_model/UpDownProject/Datasets/DUSP1/A1-2_sc_Bulk_GSE141834/GSE141834_scRNAseq_rawCounts.txt').T"
   ]
  },
  {
   "cell_type": "code",
   "execution_count": 44,
   "metadata": {},
   "outputs": [
    {
     "data": {
      "text/plain": [
       "Index(['Dex.00.2_AGGTTATCGCCTATATAC', 'Dex.00.2_CTATTACTATTAGTCCTA',\n",
       "       'Dex.00.2_CAAGTCATCCGGGGACGA', 'Dex.00.2_ACCTTCTAATAGTGCTAA',\n",
       "       'Dex.00.2_TCGCCTAAAGAACATAGA', 'Dex.00.2_GAGGCCACAAGGACAAGG',\n",
       "       'Dex.00.2_GGATTGCTGTGGGCTTGT', 'Dex.00.2_CGTTATCTGTGGCTGTGG',\n",
       "       'Dex.00.2_TCGGGAAGTAAACAAGTC', 'Dex.00.2_GTACAGGGTAGGGAGGCC',\n",
       "       ...\n",
       "       'Dex.18.2_GCTCCCACGGACTAGAGG', 'Dex.18.2_TGGCAGAAAGAATACCGA',\n",
       "       'Dex.18.2_TTAAGATCGGGAGTCGGC', 'Dex.18.2_CCGATGAGATGTTGAATT',\n",
       "       'Dex.18.2_TCGCCTTCTAGCCGAAAG', 'Dex.18.2_TGCGGTAGGTTAACGGAC',\n",
       "       'Dex.18.2_TGAGACCTGTGGTCATCA', 'Dex.18.2_TAGAGGGGCCATAGGTTA',\n",
       "       'Dex.18.2_TCGGGACACCACCAGGAG', 'Dex.18.2_CTATTAGCCGTTGTCGGC'],\n",
       "      dtype='object', length=2400)"
      ]
     },
     "execution_count": 44,
     "metadata": {},
     "output_type": "execute_result"
    }
   ],
   "source": [
    "adata_a12.obs_names"
   ]
  },
  {
   "cell_type": "code",
   "execution_count": 45,
   "metadata": {},
   "outputs": [],
   "source": [
    "adata_a12.obs['Timepoint'] = [x.split('.')[1] for x in adata_a12.obs_names]\n",
    "adata_a12.obs['Treatment'] = [x.split('.')[0] for x in adata_a12.obs_names]\n",
    "\n",
    "adata_a12.obs['Timepoint'] = adata_a12.obs['Timepoint'].astype('category')\n",
    "adata_a12.obs['Treatment'] = adata_a12.obs['Treatment'].astype('category')"
   ]
  },
  {
   "cell_type": "code",
   "execution_count": 46,
   "metadata": {},
   "outputs": [],
   "source": [
    "adata_a12_dex = adata_a12[adata_a12.obs['Treatment'] == 'Dex']"
   ]
  },
  {
   "cell_type": "code",
   "execution_count": 47,
   "metadata": {},
   "outputs": [
    {
     "name": "stderr",
     "output_type": "stream",
     "text": [
      "/tmp/ipykernel_434327/3806597239.py:1: ImplicitModificationWarning: Trying to modify attribute `._uns` of view, initializing view as actual.\n",
      "  adata_a12_dex.uns['Timepoints'] = set(adata_a12_dex.obs['Timepoint'])\n"
     ]
    }
   ],
   "source": [
    "adata_a12_dex.uns['Timepoints'] = set(adata_a12_dex.obs['Timepoint'])\n",
    "adata_a12_dex.uns['Timepoints'] = list(adata_a12_dex.uns['Timepoints'])\n",
    "adata_a12_dex.uns['Timepoints'].sort()\n",
    "\n",
    "adata_a12_dex.uns['avg_DUSP1'] = []\n",
    "adata_a12_dex.uns['var_DUSP1'] = []\n",
    "for timepoint in adata_a12_dex.uns['Timepoints']:\n",
    "    adata_a12_dex.uns['avg_DUSP1'].append(adata_a12_dex[adata_a12_dex.obs['Timepoint'] == timepoint].X.mean())\n",
    "    adata_a12_dex.uns['var_DUSP1'].append(np.std(adata_a12_dex[adata_a12_dex.obs['Timepoint'] == timepoint].X))\n",
    "\n",
    "\n",
    "\n"
   ]
  },
  {
   "cell_type": "code",
   "execution_count": 48,
   "metadata": {},
   "outputs": [
    {
     "data": {
      "text/plain": [
       "['00', '01', '02', '04', '08', '18']"
      ]
     },
     "execution_count": 48,
     "metadata": {},
     "output_type": "execute_result"
    }
   ],
   "source": [
    "adata_a12_dex.uns['Timepoints']"
   ]
  },
  {
   "cell_type": "code",
   "execution_count": 49,
   "metadata": {},
   "outputs": [
    {
     "data": {
      "image/png": "[encoded data removed]",
      "text/plain": [
       "<Figure size 640x480 with 1 Axes>"
      ]
     },
     "metadata": {},
     "output_type": "display_data"
    },
    {
     "data": {
      "image/png": "[encoded data removed]",
      "text/plain": [
       "<Figure size 640x480 with 1 Axes>"
      ]
     },
     "metadata": {},
     "output_type": "display_data"
    }
   ],
   "source": [
    "plt.scatter(adata_a12_dex.obs['Timepoint'], adata_a12_dex[:, 'DUSP1'].X)\n",
    "plt.show()\n",
    "\n",
    "plt.scatter(list(adata_a12_dex.uns['Timepoints']), adata_a12_dex.uns['avg_DUSP1'], linestyle='None', marker='^')\n",
    "#plt.errorbar(list(adata_a12_dex.uns['Timepoints']), adata_a12_dex.uns['avg_DUSP1'], adata_a12_dex.uns['var_DUSP1'], linestyle='None', marker='^')\n",
    "plt.show()"
   ]
  },
  {
   "cell_type": "code",
   "execution_count": null,
   "metadata": {},
   "outputs": [],
   "source": []
  }
 ],
 "metadata": {
  "kernelspec": {
   "display_name": "Python 3.8.10 64-bit",
   "language": "python",
   "name": "python3"
  },
  "language_info": {
   "codemirror_mode": {
    "name": "ipython",
    "version": 3
   },
   "file_extension": ".py",
   "mimetype": "text/x-python",
   "name": "python",
   "nbconvert_exporter": "python",
   "pygments_lexer": "ipython3",
   "version": "3.10.12"
  },
  "orig_nbformat": 4,
  "vscode": {
   "interpreter": {
    "hash": "916dbcbb3f70747c44a77c7bcd40155683ae19c65e1c03b4aa3499c5328201f1"
   }
  }
 },
 "nbformat": 4,
 "nbformat_minor": 2
}
