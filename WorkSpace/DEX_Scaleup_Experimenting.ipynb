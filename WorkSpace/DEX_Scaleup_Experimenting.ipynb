{
 "cells": [
  {
   "cell_type": "markdown",
   "metadata": {},
   "source": [
    "# Identification of Key Genes in DEX stimulation\n",
    "Goals: <br>\n",
    "+ identify key genes for further analysis \n",
    "+ group genes into different catagories \n",
    "+ make list for undergrads to look into\n",
    "+ do it for two datasets\n",
    "\n",
    "Explore A1-2 dataset <br>\n",
    "+ Have time series data for both bulk and single cell\n",
    "\n",
    "\n",
    "\n",
    "\n",
    "\n",
    "Explore U2OS dataset: <br>\n",
    "+ S4u => basically the hourly rate of change\n",
    "\n"
   ]
  },
  {
   "cell_type": "code",
   "execution_count": 1,
   "metadata": {},
   "outputs": [
    {
     "name": "stderr",
     "output_type": "stream",
     "text": [
      "/home/formanj/miniconda3/envs/scvi-env/lib/python3.9/site-packages/scvi/_settings.py:63: UserWarning: Since v1.0.0, scvi-tools no longer uses a random seed by default. Run `scvi.settings.seed = 0` to reproduce results from previous versions.\n",
      "  self.seed = seed\n",
      "/home/formanj/miniconda3/envs/scvi-env/lib/python3.9/site-packages/scvi/_settings.py:70: UserWarning: Setting `dl_pin_memory_gpu_training` is deprecated in v1.0 and will be removed in v1.1. Please pass in `pin_memory` to the data loaders instead.\n",
      "  self.dl_pin_memory_gpu_training = (\n",
      "/home/formanj/miniconda3/envs/scvi-env/lib/python3.9/site-packages/tqdm/auto.py:21: TqdmWarning: IProgress not found. Please update jupyter and ipywidgets. See https://ipywidgets.readthedocs.io/en/stable/user_install.html\n",
      "  from .autonotebook import tqdm as notebook_tqdm\n",
      "/home/formanj/miniconda3/envs/scvi-env/lib/python3.9/site-packages/flax/struct.py:132: FutureWarning: jax.tree_util.register_keypaths is deprecated, and will be removed in a future release. Please use `register_pytree_with_keys()` instead.\n",
      "  jax.tree_util.register_keypaths(data_clz, keypaths)\n",
      "/home/formanj/miniconda3/envs/scvi-env/lib/python3.9/site-packages/flax/struct.py:132: FutureWarning: jax.tree_util.register_keypaths is deprecated, and will be removed in a future release. Please use `register_pytree_with_keys()` instead.\n",
      "  jax.tree_util.register_keypaths(data_clz, keypaths)\n"
     ]
    }
   ],
   "source": [
    "import scanpy as sc\n",
    "import scvi\n",
    "import matplotlib.pyplot as plt\n",
    "import numpy as np\n",
    "import pandas as pd\n",
    "import os"
   ]
  },
  {
   "cell_type": "markdown",
   "metadata": {},
   "source": [
    "# A1-2 Single Cell Raw Counts"
   ]
  },
  {
   "cell_type": "code",
   "execution_count": 41,
   "metadata": {},
   "outputs": [],
   "source": [
    "adata_a12 = sc.read_text('/home/formanj/Desktop/UpDown_Project/Datasets/DUSP1/A1-2_sc_Bulk_GSE141834/GSE141834_scRNAseq_rawCounts.txt').T"
   ]
  },
  {
   "cell_type": "code",
   "execution_count": 18,
   "metadata": {},
   "outputs": [
    {
     "data": {
      "text/plain": [
       "False"
      ]
     },
     "execution_count": 18,
     "metadata": {},
     "output_type": "execute_result"
    }
   ],
   "source": [
    "np.any(adata_a12.X < 0)\n",
    "\n",
    "# from this and what I read online, we are in a normalized log space"
   ]
  },
  {
   "cell_type": "code",
   "execution_count": 42,
   "metadata": {},
   "outputs": [],
   "source": [
    "adata_a12.obs['Timepoint'] = [x.split('.')[1] for x in adata_a12.obs_names]\n",
    "adata_a12.obs['Treatment'] = [x.split('.')[0] for x in adata_a12.obs_names]\n",
    "\n",
    "adata_a12.obs['Timepoint'] = adata_a12.obs['Timepoint'].astype('category')\n",
    "adata_a12.obs['Treatment'] = adata_a12.obs['Treatment'].astype('category')"
   ]
  },
  {
   "cell_type": "code",
   "execution_count": 43,
   "metadata": {},
   "outputs": [
    {
     "data": {
      "text/html": [
       "<div>\n",
       "<style scoped>\n",
       "    .dataframe tbody tr th:only-of-type {\n",
       "        vertical-align: middle;\n",
       "    }\n",
       "\n",
       "    .dataframe tbody tr th {\n",
       "        vertical-align: top;\n",
       "    }\n",
       "\n",
       "    .dataframe thead th {\n",
       "        text-align: right;\n",
       "    }\n",
       "</style>\n",
       "<table border=\"1\" class=\"dataframe\">\n",
       "  <thead>\n",
       "    <tr style=\"text-align: right;\">\n",
       "      <th></th>\n",
       "      <th>Timepoint</th>\n",
       "      <th>Treatment</th>\n",
       "    </tr>\n",
       "  </thead>\n",
       "  <tbody>\n",
       "    <tr>\n",
       "      <th>Dex.00.2_AGGTTATCGCCTATATAC</th>\n",
       "      <td>00</td>\n",
       "      <td>Dex</td>\n",
       "    </tr>\n",
       "    <tr>\n",
       "      <th>Dex.00.2_CTATTACTATTAGTCCTA</th>\n",
       "      <td>00</td>\n",
       "      <td>Dex</td>\n",
       "    </tr>\n",
       "    <tr>\n",
       "      <th>Dex.00.2_CAAGTCATCCGGGGACGA</th>\n",
       "      <td>00</td>\n",
       "      <td>Dex</td>\n",
       "    </tr>\n",
       "    <tr>\n",
       "      <th>Dex.00.2_ACCTTCTAATAGTGCTAA</th>\n",
       "      <td>00</td>\n",
       "      <td>Dex</td>\n",
       "    </tr>\n",
       "    <tr>\n",
       "      <th>Dex.00.2_TCGCCTAAAGAACATAGA</th>\n",
       "      <td>00</td>\n",
       "      <td>Dex</td>\n",
       "    </tr>\n",
       "    <tr>\n",
       "      <th>...</th>\n",
       "      <td>...</td>\n",
       "      <td>...</td>\n",
       "    </tr>\n",
       "    <tr>\n",
       "      <th>Dex.18.2_TGCGGTAGGTTAACGGAC</th>\n",
       "      <td>18</td>\n",
       "      <td>Dex</td>\n",
       "    </tr>\n",
       "    <tr>\n",
       "      <th>Dex.18.2_TGAGACCTGTGGTCATCA</th>\n",
       "      <td>18</td>\n",
       "      <td>Dex</td>\n",
       "    </tr>\n",
       "    <tr>\n",
       "      <th>Dex.18.2_TAGAGGGGCCATAGGTTA</th>\n",
       "      <td>18</td>\n",
       "      <td>Dex</td>\n",
       "    </tr>\n",
       "    <tr>\n",
       "      <th>Dex.18.2_TCGGGACACCACCAGGAG</th>\n",
       "      <td>18</td>\n",
       "      <td>Dex</td>\n",
       "    </tr>\n",
       "    <tr>\n",
       "      <th>Dex.18.2_CTATTAGCCGTTGTCGGC</th>\n",
       "      <td>18</td>\n",
       "      <td>Dex</td>\n",
       "    </tr>\n",
       "  </tbody>\n",
       "</table>\n",
       "<p>2400 rows × 2 columns</p>\n",
       "</div>"
      ],
      "text/plain": [
       "                            Timepoint Treatment\n",
       "Dex.00.2_AGGTTATCGCCTATATAC        00       Dex\n",
       "Dex.00.2_CTATTACTATTAGTCCTA        00       Dex\n",
       "Dex.00.2_CAAGTCATCCGGGGACGA        00       Dex\n",
       "Dex.00.2_ACCTTCTAATAGTGCTAA        00       Dex\n",
       "Dex.00.2_TCGCCTAAAGAACATAGA        00       Dex\n",
       "...                               ...       ...\n",
       "Dex.18.2_TGCGGTAGGTTAACGGAC        18       Dex\n",
       "Dex.18.2_TGAGACCTGTGGTCATCA        18       Dex\n",
       "Dex.18.2_TAGAGGGGCCATAGGTTA        18       Dex\n",
       "Dex.18.2_TCGGGACACCACCAGGAG        18       Dex\n",
       "Dex.18.2_CTATTAGCCGTTGTCGGC        18       Dex\n",
       "\n",
       "[2400 rows x 2 columns]"
      ]
     },
     "execution_count": 43,
     "metadata": {},
     "output_type": "execute_result"
    }
   ],
   "source": [
    "adata_a12.obs"
   ]
  },
  {
   "cell_type": "code",
   "execution_count": 44,
   "metadata": {},
   "outputs": [],
   "source": [
    "adata_a12_dex = adata_a12[adata_a12.obs['Treatment'] == 'Dex']"
   ]
  },
  {
   "cell_type": "code",
   "execution_count": 45,
   "metadata": {},
   "outputs": [
    {
     "data": {
      "text/plain": [
       "\"adata_a12_dex.layers['Logp'] = adata_a12_dex.X\\nadata_a12_dex.layers['Norm'] = 10 ** adata_a12_dex.layers['Logp']-1\\nprint(adata_a12_dex.layers['Norm']) \""
      ]
     },
     "execution_count": 45,
     "metadata": {},
     "output_type": "execute_result"
    }
   ],
   "source": [
    "\"\"\"adata_a12_dex.layers['Logp'] = adata_a12_dex.X\n",
    "adata_a12_dex.layers['Norm'] = 10 ** adata_a12_dex.layers['Logp']-1\n",
    "print(adata_a12_dex.layers['Norm']) \"\"\""
   ]
  },
  {
   "cell_type": "code",
   "execution_count": 67,
   "metadata": {},
   "outputs": [],
   "source": [
    "adata_a12_dex.uns['Timepoints'] = set(adata_a12_dex.obs['Timepoint'])\n",
    "adata_a12_dex.uns['Timepoints'] = list(adata_a12_dex.uns['Timepoints'])\n",
    "adata_a12_dex.uns['Timepoints'].sort()\n",
    "\n",
    "adata_a12_dex.uns['avg_DUSP1'] = []\n",
    "adata_a12_dex.uns['var_DUSP1'] = []\n",
    "for timepoint in adata_a12_dex.uns['Timepoints']:\n",
    "    adata_a12_dex.uns['avg_DUSP1'].append(adata_a12_dex[adata_a12_dex.obs['Timepoint'] == timepoint][:, 'DUSP1'].X.mean())\n",
    "    adata_a12_dex.uns['var_DUSP1'].append(np.var(adata_a12_dex[adata_a12_dex.obs['Timepoint'] == timepoint][:, 'DUSP1'].X))\n",
    "\n",
    "\n",
    "\n",
    "adata_a12_dex.uns['Timepoints'] = [int(i) for i in adata_a12_dex.uns['Timepoints']]"
   ]
  },
  {
   "cell_type": "code",
   "execution_count": 68,
   "metadata": {},
   "outputs": [
    {
     "data": {
      "text/plain": [
       "[array(0.045, dtype=float32),\n",
       " array(0.1675, dtype=float32),\n",
       " array(0.21, dtype=float32),\n",
       " array(0.465, dtype=float32),\n",
       " array(1.17, dtype=float32),\n",
       " array(1.2475, dtype=float32)]"
      ]
     },
     "execution_count": 68,
     "metadata": {},
     "output_type": "execute_result"
    }
   ],
   "source": [
    "adata_a12_dex.uns['avg_DUSP1']"
   ]
  },
  {
   "cell_type": "code",
   "execution_count": 70,
   "metadata": {},
   "outputs": [
    {
     "data": {
      "image/png": "[encoded data removed]",
      "text/plain": [
       "<Figure size 640x480 with 1 Axes>"
      ]
     },
     "metadata": {},
     "output_type": "display_data"
    },
    {
     "data": {
      "image/png": "[encoded data removed]",
      "text/plain": [
       "<Figure size 640x480 with 1 Axes>"
      ]
     },
     "metadata": {},
     "output_type": "display_data"
    }
   ],
   "source": [
    "plt.scatter(adata_a12_dex.obs['Timepoint'], adata_a12_dex[:, 'DUSP1'].X)\n",
    "plt.show()\n",
    "\n",
    "plt.scatter(list(adata_a12_dex.uns['Timepoints']), adata_a12_dex.uns['avg_DUSP1'], linestyle='None', marker='^')\n",
    "#plt.errorbar(list(adata_a12_dex.uns['Timepoints']), adata_a12_dex.uns['avg_DUSP1'], adata_a12_dex.uns['var_DUSP1'], linestyle='None', marker='^')\n",
    "plt.show()"
   ]
  },
  {
   "cell_type": "code",
   "execution_count": 27,
   "metadata": {},
   "outputs": [
    {
     "data": {
      "text/plain": [
       "View of AnnData object with n_obs × n_vars = 2400 × 1\n",
       "    obs: 'Timepoint', 'Treatment'\n",
       "    uns: 'Timepoints', 'avg_DUSP1', 'var_DUSP1'"
      ]
     },
     "execution_count": 27,
     "metadata": {},
     "output_type": "execute_result"
    }
   ],
   "source": []
  },
  {
   "cell_type": "markdown",
   "metadata": {},
   "source": [
    "<p> I don't like what they did with this data </p>"
   ]
  },
  {
   "cell_type": "markdown",
   "metadata": {},
   "source": [
    "# A1-2 Single Cell Normalized/ possibly Z scored idk"
   ]
  },
  {
   "cell_type": "code",
   "execution_count": null,
   "metadata": {},
   "outputs": [],
   "source": [
    "adata_a12 = sc.read_text(\"/home/formanj/Desktop/UpDown_Project/Datasets/DUSP1/A1-2_sc_Bulk_GSE141834/GSE141834_scRNAseq_seuratV3_normalized.txt\").T"
   ]
  },
  {
   "cell_type": "code",
   "execution_count": null,
   "metadata": {},
   "outputs": [],
   "source": []
  },
  {
   "cell_type": "code",
   "execution_count": null,
   "metadata": {},
   "outputs": [],
   "source": []
  },
  {
   "cell_type": "code",
   "execution_count": null,
   "metadata": {},
   "outputs": [],
   "source": []
  },
  {
   "cell_type": "code",
   "execution_count": null,
   "metadata": {},
   "outputs": [],
   "source": []
  },
  {
   "cell_type": "code",
   "execution_count": null,
   "metadata": {},
   "outputs": [],
   "source": []
  },
  {
   "cell_type": "markdown",
   "metadata": {},
   "source": [
    "# A1-2 Bulk"
   ]
  },
  {
   "cell_type": "code",
   "execution_count": 35,
   "metadata": {},
   "outputs": [],
   "source": [
    "adata_bulk = sc.read_text('/home/formanj/Desktop/UpDown_Project/Datasets/DUSP1/A1-2_sc_Bulk_GSE141834/GSE141834_bulkRNAseq_normalized_counts.txt').T"
   ]
  },
  {
   "cell_type": "code",
   "execution_count": 38,
   "metadata": {},
   "outputs": [
    {
     "data": {
      "text/plain": [
       "Index(['EtOH_rep1', 'EtOH_rep2', 'EtOH_rep3', 'D1hr_rep1', 'D1hr_rep2',\n",
       "       'D1hr_rep3', 'D2hr_rep1', 'D2hr_rep2', 'D2hr_rep3', 'D4hr_rep1',\n",
       "       'D4hr_rep2', 'D4hr_rep3', 'D8hr_rep1', 'D8hr_rep2', 'D8hr_rep3',\n",
       "       'D18hr_rep1', 'D18hr_rep2', 'D18hr_rep3'],\n",
       "      dtype='object')"
      ]
     },
     "execution_count": 38,
     "metadata": {},
     "output_type": "execute_result"
    }
   ],
   "source": [
    "adata_bulk.obs_names"
   ]
  },
  {
   "cell_type": "code",
   "execution_count": 50,
   "metadata": {},
   "outputs": [],
   "source": [
    "adata_bulk.obs['dex_treatment'] = adata_bulk.obs_names.str.startswith('D')\n",
    "adata_bulk = adata_bulk[adata_bulk.obs['dex_treatment']]"
   ]
  },
  {
   "cell_type": "code",
   "execution_count": 51,
   "metadata": {},
   "outputs": [
    {
     "name": "stderr",
     "output_type": "stream",
     "text": [
      "/tmp/ipykernel_2997/2721959214.py:1: ImplicitModificationWarning: Trying to modify attribute `.obs` of view, initializing view as actual.\n",
      "  adata_bulk.obs['timepoint'] = [i[1:i.index('h')] for i in adata_bulk.obs_names]\n"
     ]
    }
   ],
   "source": [
    "adata_bulk.obs['timepoint'] = [i[1:i.index('h')] for i in adata_bulk.obs_names]"
   ]
  },
  {
   "cell_type": "code",
   "execution_count": 63,
   "metadata": {},
   "outputs": [
    {
     "data": {
      "text/plain": [
       "AnnData object with n_obs × n_vars = 15 × 58259\n",
       "    obs: 'dex_treatment', 'timepoint'\n",
       "    uns: 'Timepoints', 'avg_DUSP1'"
      ]
     },
     "execution_count": 63,
     "metadata": {},
     "output_type": "execute_result"
    }
   ],
   "source": [
    "adata_bulk.obs"
   ]
  },
  {
   "cell_type": "code",
   "execution_count": 64,
   "metadata": {},
   "outputs": [],
   "source": [
    "adata_bulk.uns['Timepoints'] = set(adata_bulk.obs['timepoint'])\n",
    "adata_bulk.uns['Timepoints'] = [eval(i) for i in adata_bulk.uns['Timepoints']]"
   ]
  },
  {
   "cell_type": "code",
   "execution_count": 65,
   "metadata": {},
   "outputs": [
    {
     "data": {
      "image/png": "[encoded data removed]",
      "text/plain": [
       "<Figure size 640x480 with 1 Axes>"
      ]
     },
     "metadata": {},
     "output_type": "display_data"
    },
    {
     "data": {
      "image/png": "[encoded data removed]",
      "text/plain": [
       "<Figure size 640x480 with 1 Axes>"
      ]
     },
     "metadata": {},
     "output_type": "display_data"
    }
   ],
   "source": [
    "plt.scatter(adata_bulk.obs['timepoint'], adata_bulk[:, 'DUSP1'].X)\n",
    "plt.show()\n",
    "\n",
    "plt.scatter(list(adata_bulk.uns['Timepoints']), adata_bulk.uns['avg_DUSP1'], linestyle='None', marker='^')\n",
    "#plt.errorbar(list(adata_bulk.uns['Timepoints']), adata_bulk.uns['avg_DUSP1'], adata_bulk.uns['var_DUSP1'], linestyle='None', marker='^')\n",
    "plt.show()"
   ]
  },
  {
   "cell_type": "code",
   "execution_count": null,
   "metadata": {},
   "outputs": [],
   "source": []
  }
 ],
 "metadata": {
  "kernelspec": {
   "display_name": "Python 3.9.18 ('scvi-env')",
   "language": "python",
   "name": "python3"
  },
  "language_info": {
   "codemirror_mode": {
    "name": "ipython",
    "version": 3
   },
   "file_extension": ".py",
   "mimetype": "text/x-python",
   "name": "python",
   "nbconvert_exporter": "python",
   "pygments_lexer": "ipython3",
   "version": "3.9.18"
  },
  "orig_nbformat": 4,
  "vscode": {
   "interpreter": {
    "hash": "94d41b29a40984b1f9ba646c4652a0898f71b6606226df7596b7113a75d36c3b"
   }
  }
 },
 "nbformat": 4,
 "nbformat_minor": 2
}
