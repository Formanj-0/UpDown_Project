{
 "cells": [
  {
   "cell_type": "markdown",
   "metadata": {},
   "source": [
    "# Preprocessing for SSIT of the Cardiac Dataset\n",
    "Steps: <br>\n",
    "Load in data<br>\n",
    "Downsample <br>\n",
    "Clean Data <br>\n",
    "Demultiplex w/ hashtags <br>\n",
    "Integrate Data <br>\n",
    "Identify groups <br>\n",
    "Embed in lower dimensions <br>\n",
    "\n"
   ]
  },
  {
   "cell_type": "code",
   "execution_count": null,
   "metadata": {},
   "outputs": [
    {
     "ename": "",
     "evalue": "",
     "output_type": "error",
     "traceback": [
      "\u001b[1;31mRunning cells with 'scvi-env' requires the ipykernel package.\n",
      "\u001b[1;31mRun the following command to install 'ipykernel' into the Python environment. \n",
      "\u001b[1;31mCommand: 'conda install -n scvi-env ipykernel --update-deps --force-reinstall'"
     ]
    }
   ],
   "source": [
    "import scanpy as sc\n",
    "import scvi\n",
    "import matplotlib.pyplot as plt\n",
    "import seaborn as sns\n",
    "import numpy as np\n",
    "import pandas as pd\n",
    "from scipy.sparse import csr_matrix\n",
    "import os\n"
   ]
  },
  {
   "cell_type": "markdown",
   "metadata": {},
   "source": [
    "Load in Data"
   ]
  },
  {
   "cell_type": "code",
   "execution_count": null,
   "metadata": {},
   "outputs": [
    {
     "ename": "",
     "evalue": "",
     "output_type": "error",
     "traceback": [
      "\u001b[1;31mRunning cells with 'scvi-env' requires the ipykernel package.\n",
      "\u001b[1;31mRun the following command to install 'ipykernel' into the Python environment. \n",
      "\u001b[1;31mCommand: 'conda install -n scvi-env ipykernel --update-deps --force-reinstall'"
     ]
    }
   ],
   "source": [
    "# Set the path to the dataset folder\n",
    "dataset_folder = \"/home/formanj/scRNAseq_model/UpDownProject/Datasets/Cardiac\"\n",
    "\n",
    "# Get the list of .h5 files in the dataset folder\n",
    "h5_files = [file for file in os.listdir(dataset_folder) if file.endswith('.h5')]\n",
    "\n",
    "# Load each .h5 file into scanpy\n",
    "adata_list = []\n",
    "for file in h5_files:\n",
    "    file_path = os.path.join(dataset_folder, file)\n",
    "    adata_list.append(sc.read_10x_h5(file_path, gex_only=False))\n",
    "\n",
    "\n",
    "for i in range(len(adata_list)):\n",
    "    adata_list[i].var_names_make_unique()\n",
    "    adata_list[i].uns['Dataset_name'] = f'Dataset {i}'\n",
    "    adata_list[i].obs['batch'] = [f'batch {i}']*adata_list[i].shape[0]\n",
    "    print([j for j in adata_list[i].var_names if j.endswith('-1')])"
   ]
  },
  {
   "cell_type": "markdown",
   "metadata": {},
   "source": [
    "Downsample"
   ]
  },
  {
   "cell_type": "code",
   "execution_count": null,
   "metadata": {},
   "outputs": [
    {
     "ename": "",
     "evalue": "",
     "output_type": "error",
     "traceback": [
      "\u001b[1;31mRunning cells with 'scvi-env' requires the ipykernel package.\n",
      "\u001b[1;31mRun the following command to install 'ipykernel' into the Python environment. \n",
      "\u001b[1;31mCommand: 'conda install -n scvi-env ipykernel --update-deps --force-reinstall'"
     ]
    }
   ],
   "source": [
    "for i in range(len(adata_list)):\n",
    "    print(adata_list[i].shape)\n",
    "    sc.pp.filter_cells(adata_list[i], min_genes=200)\n",
    "    sc.pp.filter_genes(adata_list[i], min_cells=10)\n",
    "    print(adata_list[i].shape)"
   ]
  },
  {
   "cell_type": "markdown",
   "metadata": {},
   "source": [
    "Demultiplex"
   ]
  },
  {
   "cell_type": "code",
   "execution_count": null,
   "metadata": {},
   "outputs": [
    {
     "ename": "",
     "evalue": "",
     "output_type": "error",
     "traceback": [
      "\u001b[1;31mRunning cells with 'scvi-env' requires the ipykernel package.\n",
      "\u001b[1;31mRun the following command to install 'ipykernel' into the Python environment. \n",
      "\u001b[1;31mCommand: 'conda install -n scvi-env ipykernel --update-deps --force-reinstall'"
     ]
    }
   ],
   "source": [
    "for i in range(len(adata_list)):\n",
    "    HTO_list = [j for j in adata_list[i].var_names if 'DAY' in j]\n",
    "    print(HTO_list)\n",
    "    print(adata_list[i].obs)\n",
    "    for j in HTO_list:\n",
    "        adata_list[i].obs[j] = adata_list[i][:,j].X.toarray().flatten()\n",
    "    adata_list[i] = adata_list[i][:, [k for k in adata_list[i].var_names if k not in HTO_list]]\n",
    "    print(adata_list[i].obs)\n",
    "    sc.external.pp.hashsolo(adata_list[i], cell_hashing_columns=HTO_list)\n"
   ]
  },
  {
   "cell_type": "code",
   "execution_count": null,
   "metadata": {},
   "outputs": [
    {
     "ename": "",
     "evalue": "",
     "output_type": "error",
     "traceback": [
      "\u001b[1;31mRunning cells with 'scvi-env' requires the ipykernel package.\n",
      "\u001b[1;31mRun the following command to install 'ipykernel' into the Python environment. \n",
      "\u001b[1;31mCommand: 'conda install -n scvi-env ipykernel --update-deps --force-reinstall'"
     ]
    }
   ],
   "source": [
    "for i in range(len(adata_list)):\n",
    "    adata_list[i] = adata_list[i][adata_list[i].obs['Classification'] != 'Negative', :]"
   ]
  },
  {
   "cell_type": "markdown",
   "metadata": {},
   "source": [
    "Clean Data"
   ]
  },
  {
   "cell_type": "code",
   "execution_count": null,
   "metadata": {},
   "outputs": [
    {
     "ename": "",
     "evalue": "",
     "output_type": "error",
     "traceback": [
      "\u001b[1;31mRunning cells with 'scvi-env' requires the ipykernel package.\n",
      "\u001b[1;31mRun the following command to install 'ipykernel' into the Python environment. \n",
      "\u001b[1;31mCommand: 'conda install -n scvi-env ipykernel --update-deps --force-reinstall'"
     ]
    }
   ],
   "source": [
    "ribo_url = \"http://software.broadinstitute.org/gsea/msigdb/download_geneset.jsp?geneSetName=KEGG_RIBOSOME&fileType=txt\"\n",
    "ribo_genes = pd.read_table(ribo_url, skiprows=2, header = None)\n",
    "\n",
    "for i in range(len(adata_list)):\n",
    "    adata_list[i].var['mt'] = adata_list[i].var_names.str.startswith('MT-')  # annotate the group of mitochondrial genes as 'mt'\n",
    "    adata_list[i].var['ribo'] = adata_list[i].var_names.isin(ribo_genes[0].values)\n",
    "    sc.pp.calculate_qc_metrics(adata_list[i], qc_vars=['mt', 'ribo'], percent_top=None, log1p=False, inplace=True)\n",
    "    #sc.pl.violin(adata[i_d], ['n_genes_by_counts', 'total_counts', 'pct_counts_mt'], jitter=0.4, multi_panel=True)\n",
    "    \n",
    "    plt.scatter(adata_list[i].obs['n_genes_by_counts'], adata_list[i].obs['total_counts'], c=adata_list[i].obs['pct_counts_mt'])\n",
    "    plt.xlabel('genes by counts')\n",
    "    plt.ylabel('total number of reads')\n",
    "    plt.title(adata_list[i].uns['Dataset_name'] + ' before QC')\n",
    "    plt.colorbar()\n",
    "    plt.show()\n",
    "    \n",
    "    upper_lim = np.quantile(adata_list[i].obs.n_genes_by_counts.values, .98)\n",
    "    lower_lim = np.quantile(adata_list[i].obs.n_genes_by_counts.values, .02)\n",
    "    print(f'{lower_lim} to {upper_lim}')\n",
    "    adata_list[i] = adata_list[i][(adata_list[i].obs.n_genes_by_counts < upper_lim) & (adata_list[i].obs.n_genes_by_counts > lower_lim)]\n",
    "    adata_list[i] = adata_list[i][adata_list[i].obs.pct_counts_mt < 20]\n",
    "    \n",
    "    plt.scatter(adata_list[i].obs['n_genes_by_counts'], adata_list[i].obs['total_counts'], c=adata_list[i].obs['pct_counts_mt'])\n",
    "    plt.xlabel('genes by counts')\n",
    "    plt.ylabel('total number of reads')\n",
    "    plt.title(adata_list[i].uns['Dataset_name'] + ' After QC')\n",
    "    plt.colorbar()\n",
    "    plt.show()\n",
    "    \n",
    "    # remove stimulated group from data\n",
    "    adata_list[i] = adata_list[i][[j for j in adata_list[i].obs_names if 'WTC' in adata_list[i].obs['Classification'][j]], :]"
   ]
  },
  {
   "cell_type": "markdown",
   "metadata": {},
   "source": [
    "Integration"
   ]
  },
  {
   "cell_type": "code",
   "execution_count": null,
   "metadata": {},
   "outputs": [
    {
     "ename": "",
     "evalue": "",
     "output_type": "error",
     "traceback": [
      "\u001b[1;31mRunning cells with 'scvi-env' requires the ipykernel package.\n",
      "\u001b[1;31mRun the following command to install 'ipykernel' into the Python environment. \n",
      "\u001b[1;31mCommand: 'conda install -n scvi-env ipykernel --update-deps --force-reinstall'"
     ]
    }
   ],
   "source": [
    "adata = sc.concat(adata_list)\n",
    "sc.pp.filter_genes(adata, min_cells = 10)\n",
    "adata.X = csr_matrix(adata.X)\n",
    "adata.write_h5ad('combined.h5ad')"
   ]
  },
  {
   "cell_type": "code",
   "execution_count": null,
   "metadata": {},
   "outputs": [
    {
     "ename": "",
     "evalue": "",
     "output_type": "error",
     "traceback": [
      "\u001b[1;31mRunning cells with 'scvi-env' requires the ipykernel package.\n",
      "\u001b[1;31mRun the following command to install 'ipykernel' into the Python environment. \n",
      "\u001b[1;31mCommand: 'conda install -n scvi-env ipykernel --update-deps --force-reinstall'"
     ]
    }
   ],
   "source": [
    "#%% Normilization\n",
    "# Unequal waiting of genes\n",
    "sc.pp.filter_genes(adata, min_cells = 100)\n",
    "\n",
    "adata.layers['counts'] = adata.X.copy()\n",
    "\n",
    "sc.pp.normalize_total(adata, target_sum=1e4)\n",
    "sc.pp.log1p(adata)\n",
    "sc.pp.highly_variable_genes(adata, min_mean=0.0125, max_mean=3, min_disp=0.5, n_top_genes=5000)\n",
    "\n",
    "adata.raw = adata\n",
    "#adata = adata[:, adata.var.highly_variable]\n",
    "#sc.pp.regress_out(adata[i_d], ['total_counts', 'pct_counts_mt']) # regresses out effect\n",
    "#sc.pp.scale(adata[i_d], max_value=10) # treats all genes the same\n",
    "    "
   ]
  },
  {
   "cell_type": "code",
   "execution_count": null,
   "metadata": {},
   "outputs": [
    {
     "ename": "",
     "evalue": "",
     "output_type": "error",
     "traceback": [
      "\u001b[1;31mRunning cells with 'scvi-env' requires the ipykernel package.\n",
      "\u001b[1;31mRun the following command to install 'ipykernel' into the Python environment. \n",
      "\u001b[1;31mCommand: 'conda install -n scvi-env ipykernel --update-deps --force-reinstall'"
     ]
    }
   ],
   "source": [
    "scvi.model.SCVI.setup_anndata(adata, layer = \"counts\",\n",
    "                             categorical_covariate_keys=[\"batch\"],\n",
    "                             continuous_covariate_keys=['pct_counts_mt', 'total_counts', 'pct_counts_ribo'])\n",
    "#torch.set_float32_matmul_precision('medium' | 'high')\n",
    "model = scvi.model.SCVI(adata)\n",
    "model.train() #may take a while without GPU"
   ]
  },
  {
   "cell_type": "markdown",
   "metadata": {},
   "source": [
    "Latent Represnetation "
   ]
  },
  {
   "cell_type": "code",
   "execution_count": null,
   "metadata": {},
   "outputs": [
    {
     "ename": "",
     "evalue": "",
     "output_type": "error",
     "traceback": [
      "\u001b[1;31mRunning cells with 'scvi-env' requires the ipykernel package.\n",
      "\u001b[1;31mRun the following command to install 'ipykernel' into the Python environment. \n",
      "\u001b[1;31mCommand: 'conda install -n scvi-env ipykernel --update-deps --force-reinstall'"
     ]
    }
   ],
   "source": [
    "\n",
    "adata.obsm['X_scVI'] = model.get_latent_representation()\n",
    "adata.layers['scvi_normalized'] = model.get_normalized_expression(library_size = 1e4)\n",
    "adata.write_h5ad('ProcessedData.h5ad')"
   ]
  },
  {
   "cell_type": "code",
   "execution_count": null,
   "metadata": {},
   "outputs": [
    {
     "ename": "",
     "evalue": "",
     "output_type": "error",
     "traceback": [
      "\u001b[1;31mRunning cells with 'scvi-env' requires the ipykernel package.\n",
      "\u001b[1;31mRun the following command to install 'ipykernel' into the Python environment. \n",
      "\u001b[1;31mCommand: 'conda install -n scvi-env ipykernel --update-deps --force-reinstall'"
     ]
    }
   ],
   "source": [
    "adata = sc.read_h5ad('ProcessedData.h5ad')"
   ]
  },
  {
   "cell_type": "code",
   "execution_count": null,
   "metadata": {},
   "outputs": [
    {
     "ename": "",
     "evalue": "",
     "output_type": "error",
     "traceback": [
      "\u001b[1;31mRunning cells with 'scvi-env' requires the ipykernel package.\n",
      "\u001b[1;31mRun the following command to install 'ipykernel' into the Python environment. \n",
      "\u001b[1;31mCommand: 'conda install -n scvi-env ipykernel --update-deps --force-reinstall'"
     ]
    }
   ],
   "source": [
    "\n",
    "sc.pp.neighbors(adata, use_rep = 'X_scVI')\n",
    "sc.tl.umap(adata)\n",
    "sc.tl.leiden(adata, resolution = 0.5)\n",
    "sc.pl.umap(adata, color = ['leiden', 'batch'], frameon = False)"
   ]
  },
  {
   "cell_type": "markdown",
   "metadata": {},
   "source": [
    "Save data"
   ]
  },
  {
   "cell_type": "code",
   "execution_count": null,
   "metadata": {},
   "outputs": [
    {
     "ename": "",
     "evalue": "",
     "output_type": "error",
     "traceback": [
      "\u001b[1;31mRunning cells with 'scvi-env' requires the ipykernel package.\n",
      "\u001b[1;31mRun the following command to install 'ipykernel' into the Python environment. \n",
      "\u001b[1;31mCommand: 'conda install -n scvi-env ipykernel --update-deps --force-reinstall'"
     ]
    }
   ],
   "source": [
    "data = {\n",
    "    'Classification': adata.obs['Classification'],\n",
    "    'UMAP X(0)': adata.obsm['X_scVI'][:, 0],\n",
    "    'UMAP X(1)': adata.obsm['X_scVI'][:, 1],\n",
    "    'leiden': adata.obs['leiden'],\n",
    "    'batch': adata.obs['batch']\n",
    "}\n",
    "\n",
    "\n",
    "data = pd.DataFrame.from_dict(data)\n",
    "\n",
    "data.to_csv('SSIT_Data_V1.csv')"
   ]
  },
  {
   "cell_type": "code",
   "execution_count": null,
   "metadata": {},
   "outputs": [
    {
     "ename": "",
     "evalue": "",
     "output_type": "error",
     "traceback": [
      "\u001b[1;31mRunning cells with 'scvi-env' requires the ipykernel package.\n",
      "\u001b[1;31mRun the following command to install 'ipykernel' into the Python environment. \n",
      "\u001b[1;31mCommand: 'conda install -n scvi-env ipykernel --update-deps --force-reinstall'"
     ]
    }
   ],
   "source": []
  }
 ],
 "metadata": {
  "kernelspec": {
   "display_name": "Python 3.8.10 64-bit",
   "language": "python",
   "name": "python3"
  },
  "language_info": {
   "codemirror_mode": {
    "name": "ipython",
    "version": 3
   },
   "file_extension": ".py",
   "mimetype": "text/x-python",
   "name": "python",
   "nbconvert_exporter": "python",
   "pygments_lexer": "ipython3",
   "version": "3.9.18"
  },
  "vscode": {
   "interpreter": {
    "hash": "916dbcbb3f70747c44a77c7bcd40155683ae19c65e1c03b4aa3499c5328201f1"
   }
  }
 },
 "nbformat": 4,
 "nbformat_minor": 2
}
